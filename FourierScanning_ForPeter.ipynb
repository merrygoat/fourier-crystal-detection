{
 "cells": [
  {
   "cell_type": "code",
   "execution_count": null,
   "metadata": {},
   "outputs": [],
   "source": [
    "import crystal_identification\n",
    "\n",
    "filename = 'sample_image.tif'\n",
    "rastering_interval = 4\n",
    "ring_threshold = 0.9\n",
    "size_of_scan_box = 128\n",
    "threshold = 0.5\n",
    "\n",
    "image = crystal_identification.load_image(filename)\n",
    "array = crystal_identification.scanfourier(image, threshold, size_of_scan_box, ring_threshold, rastering_interval)\n",
    "\n",
    "crystal_identification.plot_result(array)"
   ]
  }
 ],
 "metadata": {
  "kernelspec": {
   "display_name": "Python 3",
   "language": "python",
   "name": "python3"
  },
  "language_info": {
   "codemirror_mode": {
    "name": "ipython",
    "version": 3
   },
   "file_extension": ".py",
   "mimetype": "text/x-python",
   "name": "python",
   "nbconvert_exporter": "python",
   "pygments_lexer": "ipython3",
   "version": "3.5.3"
  }
 },
 "nbformat": 4,
 "nbformat_minor": 1
}

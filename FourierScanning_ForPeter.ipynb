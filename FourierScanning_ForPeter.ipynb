{
 "cells": [
  {
   "cell_type": "code",
   "execution_count": null,
   "metadata": {
    "collapsed": true
   },
   "outputs": [],
   "source": [
    "import pylab as pl\n",
    "import numpy as np\n",
    "import matplotlib.pyplot as plt\n",
    "import scipy as sci\n",
    "from skimage.feature import peak_local_max\n",
    "%matplotlib inline\n",
    "import pickle"
   ]
  },
  {
   "cell_type": "code",
   "execution_count": null,
   "metadata": {
    "collapsed": true
   },
   "outputs": [],
   "source": [
    "filename = '048_sintered_xyz_wholesystem_zeverysigma_decon_converted_z135.tif'\n",
    "im = pl.imread(filename)[:,:,0]"
   ]
  },
  {
   "cell_type": "code",
   "execution_count": null,
   "metadata": {
    "collapsed": true
   },
   "outputs": [],
   "source": [
    "def fourieronregion(region): #returns the fourier transform of a region\n",
    "    fourier = np.log10(np.fft.fftshift(abs(np.fft.fft2(region))))\n",
    "    return fourier\n",
    "def cutfourier(fourier,fourier_cut_low): #crops the fourier transform to region that contains peaks, for peak detection\n",
    "    fourier_cut_high = (1-fourier_cut_low)\n",
    "    fourier_central = fourier[fourier.shape[0]*fourier_cut_low:fourier.shape[0]*fourier_cut_high,fourier.shape[1]*fourier_cut_low:fourier.shape[1]*fourier_cut_high]\n",
    "    return fourier_central\n",
    "def findmaxima(fourier_central,threshold,min_distance): #finds the maxima within the cropped fourier transform\n",
    "    maxima = peak_local_max(fourier_central,min_distance=min_distance,threshold_rel=threshold)\n",
    "    middlepixel =np.round(np.shape(fourier_central)[0]/2.)\n",
    "    findmiddle = np.where((maxima == (middlepixel, middlepixel)).all(axis=1))\n",
    "    if findmiddle[0].shape[0]>0: #fourier always has a maximum at the central pixel, which we remove from the results\n",
    "         maxima = np.delete(maxima,np.where((maxima == (middlepixel, middlepixel)).all(axis=1))[0][0],axis=0)\n",
    "    return maxima\n",
    "def ringintensity(fourier_cut,maxima,number_ring_samples): #calculates the relative intensity of the discovered peaks to the sampled intensity at the same distance from the centre of the fourier transform. Gives us a way of checking for \"liquidity\"\n",
    "    middlepixel =int(np.round(np.shape(fourier_cut)[0]/2.))\n",
    "    peakheight = np.average(fourier_cut[(maxima[:,0],maxima[:,1])]) #average peak height\n",
    "    r = np.average(((((maxima-middlepixel)[:,0])**2)+(((maxima-middlepixel)[:,1])**2))**(0.5)) #average distance between center and peaks, this will be our ring radius\n",
    "    theta = np.random.random(number_ring_samples)*np.pi*2#generate our random angles along the ring for sampling\n",
    "    x = r*np.cos(theta)\n",
    "    y = r*np.sin(theta)\n",
    "    x = np.round(x).astype(int)\n",
    "    y = np.round(y).astype(int)\n",
    "    positions_in_fourier = np.concatenate((np.split(x,x.shape[0]),np.split(y,y.shape[0])),axis=1)+middlepixel #create an array with the sampling positions\n",
    "    intensities = fourier_cut[(positions_in_fourier[:,0],positions_in_fourier[:,1])] #take the intensity samples\n",
    "    intensityratio=np.average(intensities)/peakheight \n",
    "    return intensityratio\n",
    "def scanfourier(im,threshold,size_scan_box,ring_threshold): #scans a box along the original image, and uses the foruier transform in that box to assign a number to whether it's a crystal or a liquid\n",
    "\n",
    "    size_of_small_box = 4\n",
    "    size_of_scan_box = size_scan_box\n",
    "    fourier_cut_low = 0.3 #when we take fourier transform of the scan box, crop it to highlight crystal peaks\n",
    "    \n",
    "    \n",
    "    dimension_results_arr = (im.shape[0]-size_of_scan_box)/size_of_small_box #\n",
    "    results_array = np.empty((dimension_results_arr,dimension_results_arr))#this is the array where we will be storing our results\n",
    "    \n",
    "    for lowestx in np.arange(0,im.shape[0]-size_of_scan_box,size_of_small_box):\n",
    "        for lowesty in np.arange(0,im.shape[0]-size_of_scan_box,size_of_small_box): #scanning over input image\n",
    "            scan_box = im[lowestx:lowestx+size_of_scan_box,lowesty:lowesty+size_of_scan_box] #take the relevant slice\n",
    "            fourier = fourieronregion(scan_box)\n",
    "            fourier_central = cutfourier(fourier,fourier_cut_low)\n",
    "            \n",
    "            \n",
    "            min_distance = fourier.shape[0]/20.        \n",
    "            maxima = findmaxima(fourier_central,threshold,min_distance)\n",
    "            \n",
    "            if maxima.shape[0]>0: #if we've found some peaks\n",
    "                ring_intensity = ringintensity(fourier_central,maxima,100) #calculate whether we have a ring                  \n",
    "                if maxima.shape[0]==6:\n",
    "                    if ring_intensity<ring_threshold: #clear hexagonal crystal\n",
    "                        results_array[lowestx/size_of_small_box,lowesty/size_of_small_box]=6\n",
    "                    else:\n",
    "                        results_array[lowestx/size_of_small_box,lowesty/size_of_small_box] = 1 #potential boundary between hex+liquid\n",
    "                elif maxima.shape[0]==4:\n",
    "                    if ring_intensity<ring_threshold: #clear cross crystal\n",
    "                        results_array[lowestx/size_of_small_box,lowesty/size_of_small_box]=4\n",
    "                    else:\n",
    "                        results_array[lowestx/size_of_small_box,lowesty/size_of_small_box] = 0.5 #potential boundary between cross+liquid\n",
    "                else:\n",
    "                    results_array[lowestx/size_of_small_box,lowesty/size_of_small_box]=0\n",
    "            else:\n",
    "                results_array[lowestx/size_of_small_box,lowesty/size_of_small_box]=0\n",
    "                \n",
    "            \n",
    "    return results_array"
   ]
  },
  {
   "cell_type": "code",
   "execution_count": null,
   "metadata": {
    "collapsed": true
   },
   "outputs": [],
   "source": [
    "array = scanfourier(im,0.5,128,0.9) #Run the above"
   ]
  },
  {
   "cell_type": "code",
   "execution_count": null,
   "metadata": {
    "collapsed": true
   },
   "outputs": [],
   "source": [
    "###plotting###\n",
    "cmap = matplotlib.colors.ListedColormap(['darkblue','skyblue','cadetblue','limegreen','orangered']) #plot, 6 = hexagonal crystal, 4 = cross crystal 1.0 = hex+liquid ring, 0.5 = cross + liquid ring, 0.0 = liquid (neither 4 nor 6 peaks detected)\n",
    "bounds=[-0.4,0.4,0.6,1.4,5.9,6.1]\n",
    "norm = matplotlib.colors.BoundaryNorm(bounds, cmap.N)\n",
    "\n",
    "fig = plt.imshow(array,interpolation='nearest',cmap = cmap,norm=norm)\n",
    "plt.colorbar(fig,cmap=cmap,norm=norm,boundaries=bounds,ticks=[0,0.5,1,4,6])\n",
    "plt.show()"
   ]
  }
 ],
 "metadata": {
  "kernelspec": {
   "display_name": "Python 2",
   "language": "python",
   "name": "python2"
  },
  "language_info": {
   "codemirror_mode": {
    "name": "ipython",
    "version": 2
   },
   "file_extension": ".py",
   "mimetype": "text/x-python",
   "name": "python",
   "nbconvert_exporter": "python",
   "pygments_lexer": "ipython2",
   "version": "2.7.10"
  }
 },
 "nbformat": 4,
 "nbformat_minor": 0
}
